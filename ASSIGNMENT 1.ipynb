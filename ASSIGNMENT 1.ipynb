{
 "cells": [
  {
   "cell_type": "markdown",
   "id": "31d9a6f6",
   "metadata": {},
   "source": [
    "## ASSIGNMENT ONE"
   ]
  },
  {
   "cell_type": "code",
   "execution_count": 2,
   "id": "c1be6d26",
   "metadata": {},
   "outputs": [],
   "source": [
    "newlist = ['Ama', 'Kojo', 'Yhup', str(52), 'Kwame', str(96), 'Kwesi', str(87), 'Roland', True, 'Nti', str(45), str(78.5),\n",
    "          'William', str(68), str(45.3), str(78), 'Patty', False, str(98), True, 'Adowa', str(21), str(65), 'Pappy', str(14),\n",
    "          'Folly', False, str(52), 'Perry']"
   ]
  },
  {
   "cell_type": "code",
   "execution_count": 3,
   "id": "09f809a4",
   "metadata": {},
   "outputs": [],
   "source": [
    "int = []"
   ]
  },
  {
   "cell_type": "code",
   "execution_count": 4,
   "id": "d464e9d9",
   "metadata": {},
   "outputs": [],
   "source": [
    "float = []"
   ]
  },
  {
   "cell_type": "code",
   "execution_count": 5,
   "id": "956feca1",
   "metadata": {},
   "outputs": [],
   "source": [
    "str = []"
   ]
  },
  {
   "cell_type": "code",
   "execution_count": 6,
   "id": "618816fd",
   "metadata": {},
   "outputs": [],
   "source": [
    "bool = []"
   ]
  },
  {
   "cell_type": "markdown",
   "id": "abaf4634",
   "metadata": {},
   "source": [
    "### INTEGERS"
   ]
  },
  {
   "cell_type": "code",
   "execution_count": 31,
   "id": "2c585cb3",
   "metadata": {},
   "outputs": [],
   "source": [
    "for nums in newlist:\n",
    "    int.append(nums)"
   ]
  },
  {
   "cell_type": "code",
   "execution_count": 32,
   "id": "f1fb7395",
   "metadata": {},
   "outputs": [
    {
     "data": {
      "text/plain": [
       "[52, 96, 87, 45, 68, 78, 98, 21, 65, 14]"
      ]
     },
     "execution_count": 32,
     "metadata": {},
     "output_type": "execute_result"
    }
   ],
   "source": [
    "int"
   ]
  },
  {
   "cell_type": "markdown",
   "id": "0fc5c157",
   "metadata": {},
   "source": [
    "### FLOATS"
   ]
  },
  {
   "cell_type": "code",
   "execution_count": 59,
   "id": "19a7d4dd",
   "metadata": {},
   "outputs": [],
   "source": [
    "num1 = 45.3 "
   ]
  },
  {
   "cell_type": "code",
   "execution_count": 60,
   "id": "a3c78f49",
   "metadata": {},
   "outputs": [
    {
     "data": {
      "text/plain": [
       "float"
      ]
     },
     "execution_count": 60,
     "metadata": {},
     "output_type": "execute_result"
    }
   ],
   "source": [
    "type(num1)"
   ]
  },
  {
   "cell_type": "code",
   "execution_count": 61,
   "id": "bde54cca",
   "metadata": {},
   "outputs": [],
   "source": [
    "num2 = 78.5"
   ]
  },
  {
   "cell_type": "code",
   "execution_count": 62,
   "id": "4879b693",
   "metadata": {},
   "outputs": [
    {
     "data": {
      "text/plain": [
       "float"
      ]
     },
     "execution_count": 62,
     "metadata": {},
     "output_type": "execute_result"
    }
   ],
   "source": [
    "type(num2)"
   ]
  },
  {
   "cell_type": "code",
   "execution_count": 79,
   "id": "55b853e2",
   "metadata": {},
   "outputs": [],
   "source": [
    "num3 = 45.5"
   ]
  },
  {
   "cell_type": "code",
   "execution_count": 80,
   "id": "e7de8bed",
   "metadata": {},
   "outputs": [
    {
     "data": {
      "text/plain": [
       "float"
      ]
     },
     "execution_count": 80,
     "metadata": {},
     "output_type": "execute_result"
    }
   ],
   "source": [
    "type(num3)"
   ]
  },
  {
   "cell_type": "code",
   "execution_count": 111,
   "id": "f44ffd50",
   "metadata": {},
   "outputs": [
    {
     "name": "stdout",
     "output_type": "stream",
     "text": [
      "[45.3] [78.5] 45.5\n"
     ]
    }
   ],
   "source": [
    "print(num1, num2, num3)"
   ]
  },
  {
   "cell_type": "markdown",
   "id": "e8d3c8a4",
   "metadata": {},
   "source": [
    "### STRINGS"
   ]
  },
  {
   "cell_type": "code",
   "execution_count": 69,
   "id": "22ba72eb",
   "metadata": {},
   "outputs": [],
   "source": [
    "name1 = 'Ama'\n",
    "name2 = 'Kojo'\n",
    "name3 = 'Yhup' \n",
    "name4 = 'Kwame'\n",
    "name5 = 'Kwesi'\n",
    "name6 = 'Roland'\n",
    "name7 = 'Nti' \n",
    "name8 = 'William'\n",
    "name9 = 'Patty' \n",
    "name10 = 'Adowa' \n",
    "name11 = 'Pappy' \n",
    "name12 = 'Folly'"
   ]
  },
  {
   "cell_type": "code",
   "execution_count": 70,
   "id": "dabede21",
   "metadata": {},
   "outputs": [
    {
     "data": {
      "text/plain": [
       "str"
      ]
     },
     "execution_count": 70,
     "metadata": {},
     "output_type": "execute_result"
    }
   ],
   "source": [
    "type(name1)"
   ]
  },
  {
   "cell_type": "code",
   "execution_count": 71,
   "id": "ac6e170a",
   "metadata": {},
   "outputs": [
    {
     "data": {
      "text/plain": [
       "str"
      ]
     },
     "execution_count": 71,
     "metadata": {},
     "output_type": "execute_result"
    }
   ],
   "source": [
    "type(name2)"
   ]
  },
  {
   "cell_type": "code",
   "execution_count": 72,
   "id": "fb5cf5cf",
   "metadata": {},
   "outputs": [
    {
     "data": {
      "text/plain": [
       "str"
      ]
     },
     "execution_count": 72,
     "metadata": {},
     "output_type": "execute_result"
    }
   ],
   "source": [
    "type(name3)"
   ]
  },
  {
   "cell_type": "code",
   "execution_count": 73,
   "id": "ce8363be",
   "metadata": {},
   "outputs": [
    {
     "data": {
      "text/plain": [
       "str"
      ]
     },
     "execution_count": 73,
     "metadata": {},
     "output_type": "execute_result"
    }
   ],
   "source": [
    "type(name4)"
   ]
  },
  {
   "cell_type": "code",
   "execution_count": 118,
   "id": "774b7374",
   "metadata": {},
   "outputs": [
    {
     "name": "stdout",
     "output_type": "stream",
     "text": [
      "Ama Kojo Yhup Kwame Kwesi Roland Nti William Patty Adowa Pappy Folly\n"
     ]
    }
   ],
   "source": [
    "print(name1 , name2 ,  name3 , name4 , name5 , name6 , name7 , name8 , name9 , name10 , name11 , name12)"
   ]
  },
  {
   "cell_type": "markdown",
   "id": "bf23f46f",
   "metadata": {},
   "source": [
    "### BOOLEANS"
   ]
  },
  {
   "cell_type": "code",
   "execution_count": 81,
   "id": "33d1a101",
   "metadata": {},
   "outputs": [
    {
     "data": {
      "text/plain": [
       "True"
      ]
     },
     "execution_count": 81,
     "metadata": {},
     "output_type": "execute_result"
    }
   ],
   "source": [
    "True"
   ]
  },
  {
   "cell_type": "code",
   "execution_count": 82,
   "id": "216aa321",
   "metadata": {},
   "outputs": [
    {
     "data": {
      "text/plain": [
       "False"
      ]
     },
     "execution_count": 82,
     "metadata": {},
     "output_type": "execute_result"
    }
   ],
   "source": [
    "False"
   ]
  },
  {
   "cell_type": "code",
   "execution_count": 83,
   "id": "95c5d2bb",
   "metadata": {},
   "outputs": [
    {
     "data": {
      "text/plain": [
       "False"
      ]
     },
     "execution_count": 83,
     "metadata": {},
     "output_type": "execute_result"
    }
   ],
   "source": [
    "False"
   ]
  },
  {
   "cell_type": "code",
   "execution_count": 116,
   "id": "f2b5cc7a",
   "metadata": {},
   "outputs": [
    {
     "name": "stdout",
     "output_type": "stream",
     "text": [
      "True False False\n"
     ]
    }
   ],
   "source": [
    "print(\"True\", \"False\", \"False\")"
   ]
  },
  {
   "cell_type": "markdown",
   "id": "bd710feb",
   "metadata": {},
   "source": [
    "### Question 4 & 5"
   ]
  },
  {
   "cell_type": "code",
   "execution_count": 85,
   "id": "0b82b015",
   "metadata": {},
   "outputs": [
    {
     "data": {
      "text/plain": [
       "[52, 96, 87, 45, 68, 78, 98, 21, 65, 14]"
      ]
     },
     "execution_count": 85,
     "metadata": {},
     "output_type": "execute_result"
    }
   ],
   "source": [
    "int"
   ]
  },
  {
   "cell_type": "code",
   "execution_count": 98,
   "id": "0870c86b",
   "metadata": {},
   "outputs": [
    {
     "name": "stdout",
     "output_type": "stream",
     "text": [
      "3rd higest in [52, 96, 87, 45, 68, 78, 98, 21, 65, 14] is 87\n"
     ]
    }
   ],
   "source": [
    "int = [52, 96, 87, 45, 68, 78, 98, 21, 65, 14]\n",
    "print(\"3rd higest in\" , int , \"is\" , sorted (int) [-3])"
   ]
  },
  {
   "cell_type": "code",
   "execution_count": 99,
   "id": "e4439296",
   "metadata": {},
   "outputs": [
    {
     "name": "stdout",
     "output_type": "stream",
     "text": [
      "5th highest in [52, 96, 87, 45, 68, 78, 98, 21, 65, 14] is 68\n"
     ]
    }
   ],
   "source": [
    "int = [52, 96, 87, 45, 68, 78, 98, 21, 65, 14]\n",
    "print(\"5th highest in\" , int , \"is\" , sorted(int) [-5])"
   ]
  },
  {
   "cell_type": "code",
   "execution_count": 109,
   "id": "1e1a7a09",
   "metadata": {},
   "outputs": [
    {
     "name": "stdout",
     "output_type": "stream",
     "text": [
      "[45.3] [78.5] 45.5\n"
     ]
    }
   ],
   "source": [
    "print(num1, num2, num3)"
   ]
  },
  {
   "cell_type": "code",
   "execution_count": 110,
   "id": "0b3bc4c5",
   "metadata": {},
   "outputs": [
    {
     "name": "stdout",
     "output_type": "stream",
     "text": [
      "2nd largest float number is 45.5\n"
     ]
    }
   ],
   "source": [
    "print('2nd largest float number is 45.5' )"
   ]
  }
 ],
 "metadata": {
  "kernelspec": {
   "display_name": "Python 3 (ipykernel)",
   "language": "python",
   "name": "python3"
  },
  "language_info": {
   "codemirror_mode": {
    "name": "ipython",
    "version": 3
   },
   "file_extension": ".py",
   "mimetype": "text/x-python",
   "name": "python",
   "nbconvert_exporter": "python",
   "pygments_lexer": "ipython3",
   "version": "3.9.7"
  }
 },
 "nbformat": 4,
 "nbformat_minor": 5
}
